{
 "cells": [
  {
   "cell_type": "markdown",
   "metadata": {},
   "source": [
    "![image info](https://raw.githubusercontent.com/albahnsen/MIAD_ML_and_NLP/main/images/banner_1.png)"
   ]
  },
  {
   "cell_type": "markdown",
   "metadata": {},
   "source": [
    "# Taller: Construcción e implementación de modelos Bagging, Random Forest y XGBoost\n",
    "\n",
    "En este taller podrán poner en práctica sus conocimientos sobre la construcción e implementación de modelos de Bagging, Random Forest y XGBoost. El taller está constituido por 8 puntos, en los cuales deberan seguir las intrucciones de cada numeral para su desarrollo."
   ]
  },
  {
   "cell_type": "markdown",
   "metadata": {},
   "source": [
    "## Datos predicción precio de automóviles\n",
    "\n",
    "En este taller se usará el conjunto de datos de Car Listings de Kaggle donde cada observación representa el precio de un automóvil teniendo en cuenta distintas variables como año, marca, modelo, entre otras. El objetivo es predecir el precio del automóvil. Para más detalles puede visitar el siguiente enlace: [datos](https://www.kaggle.com/jpayne/852k-used-car-listings)."
   ]
  },
  {
   "cell_type": "code",
   "execution_count": 2,
   "metadata": {},
   "outputs": [],
   "source": [
    "# Ignorar advertencias informativas\n",
    "import warnings\n",
    "warnings.filterwarnings('ignore')"
   ]
  },
  {
   "cell_type": "code",
   "execution_count": 3,
   "metadata": {},
   "outputs": [
    {
     "data": {
      "text/html": [
       "<div>\n",
       "<style scoped>\n",
       "    .dataframe tbody tr th:only-of-type {\n",
       "        vertical-align: middle;\n",
       "    }\n",
       "\n",
       "    .dataframe tbody tr th {\n",
       "        vertical-align: top;\n",
       "    }\n",
       "\n",
       "    .dataframe thead th {\n",
       "        text-align: right;\n",
       "    }\n",
       "</style>\n",
       "<table border=\"1\" class=\"dataframe\">\n",
       "  <thead>\n",
       "    <tr style=\"text-align: right;\">\n",
       "      <th></th>\n",
       "      <th>Price</th>\n",
       "      <th>Year</th>\n",
       "      <th>Mileage</th>\n",
       "      <th>M_Camry</th>\n",
       "      <th>M_Camry4dr</th>\n",
       "      <th>M_CamryBase</th>\n",
       "      <th>M_CamryL</th>\n",
       "      <th>M_CamryLE</th>\n",
       "      <th>M_CamrySE</th>\n",
       "      <th>M_CamryXLE</th>\n",
       "    </tr>\n",
       "  </thead>\n",
       "  <tbody>\n",
       "    <tr>\n",
       "      <th>7</th>\n",
       "      <td>21995</td>\n",
       "      <td>2014</td>\n",
       "      <td>6480</td>\n",
       "      <td>False</td>\n",
       "      <td>False</td>\n",
       "      <td>False</td>\n",
       "      <td>True</td>\n",
       "      <td>False</td>\n",
       "      <td>False</td>\n",
       "      <td>False</td>\n",
       "    </tr>\n",
       "    <tr>\n",
       "      <th>11</th>\n",
       "      <td>13995</td>\n",
       "      <td>2014</td>\n",
       "      <td>39972</td>\n",
       "      <td>False</td>\n",
       "      <td>False</td>\n",
       "      <td>False</td>\n",
       "      <td>False</td>\n",
       "      <td>True</td>\n",
       "      <td>False</td>\n",
       "      <td>False</td>\n",
       "    </tr>\n",
       "    <tr>\n",
       "      <th>167</th>\n",
       "      <td>17941</td>\n",
       "      <td>2016</td>\n",
       "      <td>18989</td>\n",
       "      <td>False</td>\n",
       "      <td>False</td>\n",
       "      <td>False</td>\n",
       "      <td>False</td>\n",
       "      <td>False</td>\n",
       "      <td>True</td>\n",
       "      <td>False</td>\n",
       "    </tr>\n",
       "    <tr>\n",
       "      <th>225</th>\n",
       "      <td>12493</td>\n",
       "      <td>2014</td>\n",
       "      <td>51330</td>\n",
       "      <td>False</td>\n",
       "      <td>False</td>\n",
       "      <td>False</td>\n",
       "      <td>True</td>\n",
       "      <td>False</td>\n",
       "      <td>False</td>\n",
       "      <td>False</td>\n",
       "    </tr>\n",
       "    <tr>\n",
       "      <th>270</th>\n",
       "      <td>7994</td>\n",
       "      <td>2007</td>\n",
       "      <td>116065</td>\n",
       "      <td>False</td>\n",
       "      <td>True</td>\n",
       "      <td>False</td>\n",
       "      <td>False</td>\n",
       "      <td>False</td>\n",
       "      <td>False</td>\n",
       "      <td>False</td>\n",
       "    </tr>\n",
       "  </tbody>\n",
       "</table>\n",
       "</div>"
      ],
      "text/plain": [
       "     Price  Year  Mileage  M_Camry  M_Camry4dr  M_CamryBase  M_CamryL  \\\n",
       "7    21995  2014     6480    False       False        False      True   \n",
       "11   13995  2014    39972    False       False        False     False   \n",
       "167  17941  2016    18989    False       False        False     False   \n",
       "225  12493  2014    51330    False       False        False      True   \n",
       "270   7994  2007   116065    False        True        False     False   \n",
       "\n",
       "     M_CamryLE  M_CamrySE  M_CamryXLE  \n",
       "7        False      False       False  \n",
       "11        True      False       False  \n",
       "167      False       True       False  \n",
       "225      False      False       False  \n",
       "270      False      False       False  "
      ]
     },
     "execution_count": 3,
     "metadata": {},
     "output_type": "execute_result"
    }
   ],
   "source": [
    "# Importación de librerías\n",
    "%matplotlib inline\n",
    "import pandas as pd\n",
    "\n",
    "# Lectura de la información de archivo .csv\n",
    "data = pd.read_csv('https://raw.githubusercontent.com/albahnsen/MIAD_ML_and_NLP/main/datasets/dataTrain_carListings.zip')\n",
    "\n",
    "# Preprocesamiento de datos para el taller\n",
    "data = data.loc[data['Model'].str.contains('Camry')].drop(['Make', 'State'], axis=1)\n",
    "data = data.join(pd.get_dummies(data['Model'], prefix='M'))\n",
    "data = data.drop(['Model'], axis=1)\n",
    "\n",
    "# Visualización dataset\n",
    "data.head()"
   ]
  },
  {
   "cell_type": "code",
   "execution_count": 4,
   "metadata": {},
   "outputs": [],
   "source": [
    "# Separación de variables predictoras (X) y variable de interés (y)\n",
    "y = data['Price']\n",
    "X = data.drop(['Price'], axis=1)"
   ]
  },
  {
   "cell_type": "code",
   "execution_count": 5,
   "metadata": {},
   "outputs": [],
   "source": [
    "# Separación de datos en set de entrenamiento y test\n",
    "from sklearn.model_selection import train_test_split\n",
    "X_train, X_test, y_train, y_test = train_test_split(X, y, test_size=0.33, random_state=42)"
   ]
  },
  {
   "cell_type": "code",
   "execution_count": 6,
   "metadata": {},
   "outputs": [],
   "source": [
    "# Llamado de librerías\n",
    "import numpy as np\n",
    "from sklearn.metrics import mean_absolute_error, mean_squared_error\n",
    "from sklearn.tree import DecisionTreeRegressor\n",
    "from sklearn.ensemble import BaggingRegressor"
   ]
  },
  {
   "cell_type": "code",
   "execution_count": 7,
   "metadata": {},
   "outputs": [],
   "source": [
    "# Inicializar lista para guardar resultados (para comparar)\n",
    "resultados_modelos = []\n",
    "\n",
    "# Función actualizada\n",
    "def evaluacion_modelo(y_train, y_train_pred, y_test, y_test_pred, nombre_modelo=\"Modelo\"):\n",
    "    mae_train = mean_absolute_error(y_train, y_train_pred)\n",
    "    rmse_train = np.sqrt(mean_squared_error(y_train, y_train_pred))\n",
    "    \n",
    "    mae_test = mean_absolute_error(y_test, y_test_pred)\n",
    "    rmse_test = np.sqrt(mean_squared_error(y_test, y_test_pred))\n",
    "    \n",
    "    print(f\"\\n=== RESULTADOS DEL {nombre_modelo} ===\")\n",
    "    print(\"Rendimiento del conjunto de entrenamiento:\")\n",
    "    print(f\"MAE: {mae_train:.2f}\")\n",
    "    print(f\"RMSE: {rmse_train:.2f}\")\n",
    "    print(\"Rendimiento del conjunto de prueba:\")\n",
    "    print(f\"MAE: {mae_test:.2f}\")\n",
    "    print(f\"RMSE: {rmse_test:.2f}\")\n",
    "    \n",
    "    # Guardar resultados en la lista global\n",
    "    resultados_modelos.extend([\n",
    "        {\"Modelo\": nombre_modelo, \"Tipo\": \"Entrenamiento\", \"Metrica\": \"MAE\", \"Valor\": mae_train},\n",
    "        {\"Modelo\": nombre_modelo, \"Tipo\": \"Prueba\", \"Metrica\": \"MAE\", \"Valor\": mae_test},\n",
    "        {\"Modelo\": nombre_modelo, \"Tipo\": \"Entrenamiento\", \"Metrica\": \"RMSE\", \"Valor\": rmse_train},\n",
    "        {\"Modelo\": nombre_modelo, \"Tipo\": \"Prueba\", \"Metrica\": \"RMSE\", \"Valor\": rmse_test}\n",
    "    ])\n"
   ]
  },
  {
   "cell_type": "markdown",
   "metadata": {},
   "source": [
    "### Punto 1 - Árbol de decisión manual\n",
    "\n",
    "En la celda 1 creen un árbol de decisión **manualmente**  que considere los set de entrenamiento y test definidos anteriormente y presenten el RMSE y MAE del modelo en el set de test."
   ]
  },
  {
   "cell_type": "code",
   "execution_count": 8,
   "metadata": {},
   "outputs": [],
   "source": [
    "# Celda 1\n"
   ]
  },
  {
   "cell_type": "markdown",
   "metadata": {},
   "source": [
    "### Punto 2 - Bagging manual\n",
    "\n",
    "En la celda 2 creen un modelo bagging **manualmente** con 10 árboles de regresión y comenten sobre el desempeño del modelo."
   ]
  },
  {
   "cell_type": "code",
   "execution_count": 9,
   "metadata": {},
   "outputs": [
    {
     "name": "stdout",
     "output_type": "stream",
     "text": [
      "=== INICIANDO BAGGING MANUAL CON 10 ÁRBOLES\n",
      "\n",
      "--- Árbol 1 ---\n",
      "MAE individual: 1436.14\n",
      "RMSE individual: 1906.20\n",
      "\n",
      "--- Árbol 2 ---\n",
      "MAE individual: 1456.77\n",
      "RMSE individual: 1931.26\n",
      "\n",
      "--- Árbol 3 ---\n",
      "MAE individual: 1448.48\n",
      "RMSE individual: 1929.47\n",
      "\n",
      "--- Árbol 4 ---\n",
      "MAE individual: 1438.17\n",
      "RMSE individual: 1914.94\n",
      "\n",
      "--- Árbol 5 ---\n",
      "MAE individual: 1464.04\n",
      "RMSE individual: 1940.77\n",
      "\n",
      "--- Árbol 6 ---\n",
      "MAE individual: 1483.79\n",
      "RMSE individual: 1958.25\n",
      "\n",
      "--- Árbol 7 ---\n",
      "MAE individual: 1455.95\n",
      "RMSE individual: 1932.18\n",
      "\n",
      "--- Árbol 8 ---\n",
      "MAE individual: 1456.75\n",
      "RMSE individual: 1927.10\n",
      "\n",
      "--- Árbol 9 ---\n",
      "MAE individual: 1451.83\n",
      "RMSE individual: 1926.48\n",
      "\n",
      "--- Árbol 10 ---\n",
      "MAE individual: 1455.17\n",
      "RMSE individual: 1934.19\n",
      "\n",
      "=== RESULTADOS DEL Bagging Manual ===\n",
      "Rendimiento del conjunto de entrenamiento:\n",
      "MAE: 1325.36\n",
      "RMSE: 1791.11\n",
      "Rendimiento del conjunto de prueba:\n",
      "MAE: 1360.67\n",
      "RMSE: 1825.21\n"
     ]
    }
   ],
   "source": [
    "# Modelado por medio de Bagging manual \n",
    "np.random.seed(42)                     # Fijamos la semilla para reproducibilidad\n",
    "n_trees = 10                           # Número de árboles\n",
    "trees = []                             # Listas para guardar los modelos\n",
    "\n",
    "# Predicciones de cada árbol\n",
    "predictions_test = []\n",
    "predictions_train = []\n",
    "\n",
    "print(\"=== INICIANDO BAGGING MANUAL CON \" + str(n_trees) + \" ÁRBOLES\" )\n",
    "\n",
    "# Entrenamiento con Bagging\n",
    "for i in range(n_trees):\n",
    "    print(f\"\\n--- Árbol {i+1} ---\")\n",
    "    \n",
    "    # Muestra bootstrap\n",
    "    bootstrap_idx = np.random.choice(range(len(X_train)), size=len(X_train), replace=True)\n",
    "# print(\"Índices bootstrap (primeros 10):\", bootstrap_idx[:10])\n",
    "    \n",
    "    X_bootstrap = X_train.iloc[bootstrap_idx]\n",
    "    y_bootstrap = y_train.iloc[bootstrap_idx]\n",
    "    \n",
    "    # Modelo\n",
    "    tree = DecisionTreeRegressor(max_depth=3, random_state=i)\n",
    "    tree.fit(X_bootstrap, y_bootstrap)\n",
    "    trees.append(tree)\n",
    "    \n",
    "    # Predicciones\n",
    "    pred_train = tree.predict(X_train)\n",
    "    pred_test = tree.predict(X_test)\n",
    "    \n",
    "    predictions_train.append(pred_train)\n",
    "    predictions_test.append(pred_test)   \n",
    "# print(\"Predicciones en test (primeros 5):\", pred_test[:5])\n",
    "    \n",
    "    # Evaluación individual de los árboles Bootstrap\n",
    "    mae_individual = mean_absolute_error(y_test, pred_test)\n",
    "    rmse_individual = np.sqrt(mean_squared_error(y_test, pred_test))\n",
    "    print(f\"MAE individual: {mae_individual:.2f}\")\n",
    "    print(f\"RMSE individual: {rmse_individual:.2f}\")\n",
    "\n",
    "# Promedio de predicciones\n",
    "y_train_bgm = np.mean(predictions_train, axis=0)\n",
    "y_test_bgm = np.mean(predictions_test, axis=0)\n",
    "\n",
    "# Evaluación del modelo ensamblado\n",
    "evaluacion_modelo(y_train, y_train_bgm, y_test, y_test_bgm, nombre_modelo=\"Bagging Manual\")\n"
   ]
  },
  {
   "cell_type": "markdown",
   "metadata": {},
   "source": [
    "### Punto 3 - Bagging con librería\n",
    "\n",
    "En la celda 3, con la librería sklearn, entrenen un modelo bagging con 10 árboles de regresión y el parámetro `max_features` igual a `log(n_features)` y comenten sobre el desempeño del modelo."
   ]
  },
  {
   "cell_type": "code",
   "execution_count": 10,
   "metadata": {},
   "outputs": [
    {
     "name": "stdout",
     "output_type": "stream",
     "text": [
      "\n",
      "=== RESULTADOS DEL BaggingRegressor (sklearn) ===\n",
      "Rendimiento del conjunto de entrenamiento:\n",
      "MAE: 2161.97\n",
      "RMSE: 2789.16\n",
      "Rendimiento del conjunto de prueba:\n",
      "MAE: 2160.76\n",
      "RMSE: 2768.35\n"
     ]
    }
   ],
   "source": [
    "# Número de características\n",
    "n_features = X_train.shape[1]\n",
    "max_features_log = int(np.log(n_features))\n",
    "\n",
    "# Entrenamiento del modelo con sklearn\n",
    "bagging_model_log = BaggingRegressor(\n",
    "    estimator=DecisionTreeRegressor(),\n",
    "    n_estimators=10,\n",
    "    max_features=max_features_log,\n",
    "    random_state=42\n",
    ")\n",
    "bagging_model_log.fit(X_train, y_train)\n",
    "\n",
    "# Predicciones\n",
    "y_train_bgl = bagging_model_log.predict(X_train)\n",
    "y_test_bgl = bagging_model_log.predict(X_test)\n",
    "\n",
    "# Evaluación del modelo \n",
    "evaluacion_modelo(y_train, y_train_bgl, y_test, y_test_bgl, nombre_modelo=\"BaggingRegressor (sklearn)\")"
   ]
  },
  {
   "cell_type": "markdown",
   "metadata": {},
   "source": [
    "### Punto 4 - Random forest con librería\n",
    "\n",
    "En la celda 4, usando la librería sklearn entrenen un modelo de Randon Forest para regresión  y comenten sobre el desempeño del modelo."
   ]
  },
  {
   "cell_type": "code",
   "execution_count": 11,
   "metadata": {},
   "outputs": [],
   "source": [
    "# Celda 4\n"
   ]
  },
  {
   "cell_type": "markdown",
   "metadata": {},
   "source": [
    "### Punto 5 - Calibración de parámetros Random forest\n",
    "\n",
    "En la celda 5, calibren los parámetros max_depth, max_features y n_estimators del modelo de Randon Forest para regresión, comenten sobre el desempeño del modelo y describan cómo cada parámetro afecta el desempeño del modelo."
   ]
  },
  {
   "cell_type": "code",
   "execution_count": 12,
   "metadata": {},
   "outputs": [],
   "source": [
    "# Celda 5\n"
   ]
  },
  {
   "cell_type": "markdown",
   "metadata": {},
   "source": [
    "### Punto 6 - XGBoost con librería\n",
    "\n",
    "En la celda 6 implementen un modelo XGBoost de regresión con la librería sklearn y comenten sobre el desempeño del modelo."
   ]
  },
  {
   "cell_type": "code",
   "execution_count": 13,
   "metadata": {},
   "outputs": [],
   "source": [
    "# Celda 6\n"
   ]
  },
  {
   "cell_type": "markdown",
   "metadata": {},
   "source": [
    "### Punto 7 - Calibración de parámetros XGBoost\n",
    "\n",
    "En la celda 7 calibren los parámetros learning rate, gamma y colsample_bytree del modelo XGBoost para regresión, comenten sobre el desempeño del modelo y describan cómo cada parámetro afecta el desempeño del modelo."
   ]
  },
  {
   "cell_type": "code",
   "execution_count": 14,
   "metadata": {},
   "outputs": [],
   "source": [
    "# Celda 7\n"
   ]
  },
  {
   "cell_type": "markdown",
   "metadata": {},
   "source": [
    "### Punto 8 - Comparación y análisis de resultados\n",
    "En la celda 8 comparen los resultados obtenidos de los diferentes modelos (random forest y XGBoost) y comenten las ventajas del mejor modelo y las desventajas del modelo con el menor desempeño."
   ]
  },
  {
   "cell_type": "code",
   "execution_count": 15,
   "metadata": {},
   "outputs": [
    {
     "data": {
      "image/png": "[encoded data removed]",
      "text/plain": [
       "<Figure size 1000x600 with 1 Axes>"
      ]
     },
     "metadata": {},
     "output_type": "display_data"
    },
    {
     "data": {
      "image/png": "[encoded data removed]",
      "text/plain": [
       "<Figure size 1000x600 with 1 Axes>"
      ]
     },
     "metadata": {},
     "output_type": "display_data"
    }
   ],
   "source": [
    "# Crear DataFrame a partir de los resultados\n",
    "df_resultados = pd.DataFrame(resultados_modelos)\n",
    "\n",
    "# Visualización\n",
    "import seaborn as sns\n",
    "import matplotlib.pyplot as plt\n",
    "\n",
    "# Gráfica de MAE\n",
    "plt.figure(figsize=(10, 6))\n",
    "sns.barplot(data=df_resultados[df_resultados[\"Metrica\"] == \"MAE\"], x='Modelo', y='Valor', hue='Tipo')\n",
    "plt.title(\"Comparación de MAE por modelo (Entrenamiento vs Prueba)\")\n",
    "plt.ylabel(\"MAE\")\n",
    "plt.xlabel(\"Modelo\")\n",
    "plt.xticks(rotation=45)\n",
    "plt.tight_layout()\n",
    "plt.show()\n",
    "\n",
    "# Gráfica de RMSE\n",
    "plt.figure(figsize=(10, 6))\n",
    "sns.barplot(data=df_resultados[df_resultados[\"Metrica\"] == \"RMSE\"], x='Modelo', y='Valor', hue='Tipo')\n",
    "plt.title(\"Comparación de RMSE por modelo (Entrenamiento vs Prueba)\")\n",
    "plt.ylabel(\"RMSE\")\n",
    "plt.xlabel(\"Modelo\")\n",
    "plt.xticks(rotation=45)\n",
    "plt.tight_layout()\n",
    "plt.show()"
   ]
  },
  {
   "cell_type": "code",
   "execution_count": 16,
   "metadata": {},
   "outputs": [],
   "source": [
    "# Celda 8\n"
   ]
  }
 ],
 "metadata": {
  "kernelspec": {
   "display_name": "Python 3",
   "language": "python",
   "name": "python3"
  },
  "language_info": {
   "codemirror_mode": {
    "name": "ipython",
    "version": 3
   },
   "file_extension": ".py",
   "mimetype": "text/x-python",
   "name": "python",
   "nbconvert_exporter": "python",
   "pygments_lexer": "ipython3",
   "version": "3.13.2"
  }
 },
 "nbformat": 4,
 "nbformat_minor": 4
}
